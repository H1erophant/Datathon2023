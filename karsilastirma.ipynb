{
 "cells": [
  {
   "cell_type": "code",
   "execution_count": 260,
   "metadata": {},
   "outputs": [],
   "source": [
    "import pandas as pd"
   ]
  },
  {
   "cell_type": "code",
   "execution_count": 261,
   "metadata": {},
   "outputs": [],
   "source": [
    "deep_l_data = pd.read_csv(\"derin_ogrenme.csv\")\n",
    "rfc_data = pd.read_csv(\"tahmin_verileri_random_forest_without_scaler_optimize.csv\")\n",
    "rfc_data.drop(\"id\",axis=1,inplace=True)"
   ]
  },
  {
   "cell_type": "code",
   "execution_count": 262,
   "metadata": {},
   "outputs": [
    {
     "data": {
      "text/plain": [
       "0       3\n",
       "1       3\n",
       "2       2\n",
       "3       6\n",
       "4       1\n",
       "       ..\n",
       "2335    8\n",
       "2336    2\n",
       "2337    7\n",
       "2338    5\n",
       "2339    6\n",
       "Name: Öbek İsmi, Length: 2340, dtype: int64"
      ]
     },
     "execution_count": 262,
     "metadata": {},
     "output_type": "execute_result"
    }
   ],
   "source": [
    "encoded_obekler = deep_l_data[\"Öbek İsmi\"]\n",
    "for x in range(len(encoded_obekler)):\n",
    "    encoded_obekler[x] += 1\n",
    "encoded_obekler"
   ]
  },
  {
   "cell_type": "code",
   "execution_count": 263,
   "metadata": {},
   "outputs": [],
   "source": [
    "def decode_obek(encoded):\n",
    "    decoder = {\n",
    "        1:\"obek_1\",\n",
    "        2:\"obek_2\",\n",
    "        3:\"obek_3\",\n",
    "        4:\"obek_4\",\n",
    "        5:\"obek_5\",\n",
    "        6:\"obek_6\",\n",
    "        7:\"obek_7\",\n",
    "        8:\"obek_8\"\n",
    "    }\n",
    "    return decoder.get(encoded)"
   ]
  },
  {
   "cell_type": "code",
   "execution_count": 264,
   "metadata": {},
   "outputs": [
    {
     "data": {
      "text/html": [
       "<div>\n",
       "<style scoped>\n",
       "    .dataframe tbody tr th:only-of-type {\n",
       "        vertical-align: middle;\n",
       "    }\n",
       "\n",
       "    .dataframe tbody tr th {\n",
       "        vertical-align: top;\n",
       "    }\n",
       "\n",
       "    .dataframe thead th {\n",
       "        text-align: right;\n",
       "    }\n",
       "</style>\n",
       "<table border=\"1\" class=\"dataframe\">\n",
       "  <thead>\n",
       "    <tr style=\"text-align: right;\">\n",
       "      <th></th>\n",
       "      <th>Öbek İsmi</th>\n",
       "    </tr>\n",
       "  </thead>\n",
       "  <tbody>\n",
       "    <tr>\n",
       "      <th>0</th>\n",
       "      <td>obek_3</td>\n",
       "    </tr>\n",
       "    <tr>\n",
       "      <th>1</th>\n",
       "      <td>obek_3</td>\n",
       "    </tr>\n",
       "    <tr>\n",
       "      <th>2</th>\n",
       "      <td>obek_2</td>\n",
       "    </tr>\n",
       "    <tr>\n",
       "      <th>3</th>\n",
       "      <td>obek_6</td>\n",
       "    </tr>\n",
       "    <tr>\n",
       "      <th>4</th>\n",
       "      <td>obek_1</td>\n",
       "    </tr>\n",
       "    <tr>\n",
       "      <th>...</th>\n",
       "      <td>...</td>\n",
       "    </tr>\n",
       "    <tr>\n",
       "      <th>2335</th>\n",
       "      <td>obek_8</td>\n",
       "    </tr>\n",
       "    <tr>\n",
       "      <th>2336</th>\n",
       "      <td>obek_2</td>\n",
       "    </tr>\n",
       "    <tr>\n",
       "      <th>2337</th>\n",
       "      <td>obek_7</td>\n",
       "    </tr>\n",
       "    <tr>\n",
       "      <th>2338</th>\n",
       "      <td>obek_5</td>\n",
       "    </tr>\n",
       "    <tr>\n",
       "      <th>2339</th>\n",
       "      <td>obek_6</td>\n",
       "    </tr>\n",
       "  </tbody>\n",
       "</table>\n",
       "<p>2340 rows × 1 columns</p>\n",
       "</div>"
      ],
      "text/plain": [
       "     Öbek İsmi\n",
       "0       obek_3\n",
       "1       obek_3\n",
       "2       obek_2\n",
       "3       obek_6\n",
       "4       obek_1\n",
       "...        ...\n",
       "2335    obek_8\n",
       "2336    obek_2\n",
       "2337    obek_7\n",
       "2338    obek_5\n",
       "2339    obek_6\n",
       "\n",
       "[2340 rows x 1 columns]"
      ]
     },
     "execution_count": 264,
     "metadata": {},
     "output_type": "execute_result"
    }
   ],
   "source": [
    "decoded_obekler = []\n",
    "for encoded in encoded_obekler:\n",
    "    decoded = decode_obek(encoded)\n",
    "    decoded_obekler.append(decoded)\n",
    "\n",
    "decoded_obekler = pd.DataFrame(data=decoded_obekler,columns=[\"Öbek İsmi\"])\n",
    "decoded_obekler"
   ]
  },
  {
   "cell_type": "code",
   "execution_count": 265,
   "metadata": {},
   "outputs": [],
   "source": [
    "from sklearn.metrics import accuracy_score\n"
   ]
  },
  {
   "cell_type": "code",
   "execution_count": 266,
   "metadata": {},
   "outputs": [
    {
     "data": {
      "text/plain": [
       "0.9752136752136752"
      ]
     },
     "execution_count": 266,
     "metadata": {},
     "output_type": "execute_result"
    }
   ],
   "source": [
    "accuracy_score(rfc_data,decoded_obekler)"
   ]
  },
  {
   "cell_type": "code",
   "execution_count": 267,
   "metadata": {},
   "outputs": [],
   "source": [
    "rfc_series = rfc_data[\"Öbek İsmi\"]\n",
    "obek_series = decoded_obekler[\"Öbek İsmi\"]"
   ]
  },
  {
   "cell_type": "code",
   "execution_count": 268,
   "metadata": {},
   "outputs": [],
   "source": [
    "different = []\n",
    "if rfc_series.shape == obek_series.shape:\n",
    "    for i in range(len(rfc_series)):\n",
    "        if obek_series[i] != rfc_series[i]:\n",
    "            different.append([i,obek_series[i],rfc_series[i]])\n",
    "\n",
    "different = pd.DataFrame(data=different,columns=[\"id\",\"DL\",\"RFC\"])\n",
    "different.to_csv(\"farklılıklar.csv\")"
   ]
  },
  {
   "cell_type": "code",
   "execution_count": 269,
   "metadata": {},
   "outputs": [],
   "source": [
    "data = {\n",
    "    \"id\":range(2340),\n",
    "    \"Öbek İsmi\":obek_series\n",
    "}\n",
    "\n",
    "data = pd.DataFrame(data)\n",
    "data.to_csv(\"tahminler.csv\",index=False)"
   ]
  }
 ],
 "metadata": {
  "kernelspec": {
   "display_name": "base",
   "language": "python",
   "name": "python3"
  },
  "language_info": {
   "codemirror_mode": {
    "name": "ipython",
    "version": 3
   },
   "file_extension": ".py",
   "mimetype": "text/x-python",
   "name": "python",
   "nbconvert_exporter": "python",
   "pygments_lexer": "ipython3",
   "version": "3.10.9"
  },
  "orig_nbformat": 4
 },
 "nbformat": 4,
 "nbformat_minor": 2
}
