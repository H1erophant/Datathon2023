{
 "cells": [
  {
   "cell_type": "code",
   "execution_count": 1,
   "metadata": {},
   "outputs": [],
   "source": [
    "import pandas"
   ]
  },
  {
   "cell_type": "code",
   "execution_count": 25,
   "metadata": {},
   "outputs": [
    {
     "data": {
      "text/html": [
       "<div>\n",
       "<style scoped>\n",
       "    .dataframe tbody tr th:only-of-type {\n",
       "        vertical-align: middle;\n",
       "    }\n",
       "\n",
       "    .dataframe tbody tr th {\n",
       "        vertical-align: top;\n",
       "    }\n",
       "\n",
       "    .dataframe thead th {\n",
       "        text-align: right;\n",
       "    }\n",
       "</style>\n",
       "<table border=\"1\" class=\"dataframe\">\n",
       "  <thead>\n",
       "    <tr style=\"text-align: right;\">\n",
       "      <th></th>\n",
       "      <th>count</th>\n",
       "      <th>mean</th>\n",
       "      <th>std</th>\n",
       "      <th>min</th>\n",
       "      <th>25%</th>\n",
       "      <th>50%</th>\n",
       "      <th>75%</th>\n",
       "      <th>max</th>\n",
       "    </tr>\n",
       "  </thead>\n",
       "  <tbody>\n",
       "    <tr>\n",
       "      <th>index</th>\n",
       "      <td>5460.0</td>\n",
       "      <td>2729.500000</td>\n",
       "      <td>1576.310566</td>\n",
       "      <td>0.000000</td>\n",
       "      <td>1364.750000</td>\n",
       "      <td>2729.500000</td>\n",
       "      <td>4094.250000</td>\n",
       "      <td>5.459000e+03</td>\n",
       "    </tr>\n",
       "    <tr>\n",
       "      <th>Yıllık Ortalama Gelir</th>\n",
       "      <td>5460.0</td>\n",
       "      <td>363571.133428</td>\n",
       "      <td>219714.442407</td>\n",
       "      <td>43922.988693</td>\n",
       "      <td>215693.439307</td>\n",
       "      <td>286925.436073</td>\n",
       "      <td>468188.221798</td>\n",
       "      <td>1.192437e+06</td>\n",
       "    </tr>\n",
       "    <tr>\n",
       "      <th>Yıllık Ortalama Satın Alım Miktarı</th>\n",
       "      <td>5460.0</td>\n",
       "      <td>16616.612217</td>\n",
       "      <td>14099.171704</td>\n",
       "      <td>2859.254000</td>\n",
       "      <td>4931.859057</td>\n",
       "      <td>8426.818967</td>\n",
       "      <td>30579.244695</td>\n",
       "      <td>4.860559e+04</td>\n",
       "    </tr>\n",
       "    <tr>\n",
       "      <th>Yıllık Ortalama Sipariş Verilen Ürün Adedi</th>\n",
       "      <td>5460.0</td>\n",
       "      <td>24.040884</td>\n",
       "      <td>14.945655</td>\n",
       "      <td>0.000000</td>\n",
       "      <td>11.550502</td>\n",
       "      <td>20.095924</td>\n",
       "      <td>35.918161</td>\n",
       "      <td>6.461620e+01</td>\n",
       "    </tr>\n",
       "    <tr>\n",
       "      <th>Yıllık Ortalama Sepete Atılan Ürün Adedi</th>\n",
       "      <td>5460.0</td>\n",
       "      <td>73.445693</td>\n",
       "      <td>47.214184</td>\n",
       "      <td>3.977559</td>\n",
       "      <td>25.009168</td>\n",
       "      <td>82.485579</td>\n",
       "      <td>104.473291</td>\n",
       "      <td>2.423084e+02</td>\n",
       "    </tr>\n",
       "  </tbody>\n",
       "</table>\n",
       "</div>"
      ],
      "text/plain": [
       "                                             count           mean  \\\n",
       "index                                       5460.0    2729.500000   \n",
       "Yıllık Ortalama Gelir                       5460.0  363571.133428   \n",
       "Yıllık Ortalama Satın Alım Miktarı          5460.0   16616.612217   \n",
       "Yıllık Ortalama Sipariş Verilen Ürün Adedi  5460.0      24.040884   \n",
       "Yıllık Ortalama Sepete Atılan Ürün Adedi    5460.0      73.445693   \n",
       "\n",
       "                                                      std           min  \\\n",
       "index                                         1576.310566      0.000000   \n",
       "Yıllık Ortalama Gelir                       219714.442407  43922.988693   \n",
       "Yıllık Ortalama Satın Alım Miktarı           14099.171704   2859.254000   \n",
       "Yıllık Ortalama Sipariş Verilen Ürün Adedi      14.945655      0.000000   \n",
       "Yıllık Ortalama Sepete Atılan Ürün Adedi        47.214184      3.977559   \n",
       "\n",
       "                                                      25%            50%  \\\n",
       "index                                         1364.750000    2729.500000   \n",
       "Yıllık Ortalama Gelir                       215693.439307  286925.436073   \n",
       "Yıllık Ortalama Satın Alım Miktarı            4931.859057    8426.818967   \n",
       "Yıllık Ortalama Sipariş Verilen Ürün Adedi      11.550502      20.095924   \n",
       "Yıllık Ortalama Sepete Atılan Ürün Adedi        25.009168      82.485579   \n",
       "\n",
       "                                                      75%           max  \n",
       "index                                         4094.250000  5.459000e+03  \n",
       "Yıllık Ortalama Gelir                       468188.221798  1.192437e+06  \n",
       "Yıllık Ortalama Satın Alım Miktarı           30579.244695  4.860559e+04  \n",
       "Yıllık Ortalama Sipariş Verilen Ürün Adedi      35.918161  6.461620e+01  \n",
       "Yıllık Ortalama Sepete Atılan Ürün Adedi       104.473291  2.423084e+02  "
      ]
     },
     "execution_count": 25,
     "metadata": {},
     "output_type": "execute_result"
    }
   ],
   "source": [
    "data = pandas.read_csv(\"train.csv\")"
   ]
  },
  {
   "cell_type": "code",
   "execution_count": 26,
   "metadata": {},
   "outputs": [
    {
     "data": {
      "text/plain": [
       "index                                         0\n",
       "Cinsiyet                                      0\n",
       "Yaş Grubu                                     0\n",
       "Medeni Durum                                  0\n",
       "Eğitim Düzeyi                                 0\n",
       "İstihdam Durumu                               0\n",
       "Yıllık Ortalama Gelir                         0\n",
       "Yaşadığı Şehir                                0\n",
       "En Çok İlgilendiği Ürün Grubu                 0\n",
       "Yıllık Ortalama Satın Alım Miktarı            0\n",
       "Yıllık Ortalama Sipariş Verilen Ürün Adedi    0\n",
       "Eğitime Devam Etme Durumu                     0\n",
       "Öbek İsmi                                     0\n",
       "Yıllık Ortalama Sepete Atılan Ürün Adedi      0\n",
       "dtype: int64"
      ]
     },
     "execution_count": 26,
     "metadata": {},
     "output_type": "execute_result"
    }
   ],
   "source": [
    "data.isna().sum()"
   ]
  },
  {
   "cell_type": "code",
   "execution_count": 21,
   "metadata": {},
   "outputs": [
    {
     "data": {
      "text/plain": [
       "obek_4    720\n",
       "obek_8    717\n",
       "obek_5    706\n",
       "obek_3    695\n",
       "obek_7    695\n",
       "obek_1    692\n",
       "obek_6    688\n",
       "obek_2    547\n",
       "Name: Öbek İsmi, dtype: int64"
      ]
     },
     "execution_count": 21,
     "metadata": {},
     "output_type": "execute_result"
    }
   ],
   "source": [
    "data[\"Öbek İsmi\"].value_counts()"
   ]
  },
  {
   "cell_type": "code",
   "execution_count": null,
   "metadata": {},
   "outputs": [],
   "source": []
  }
 ],
 "metadata": {
  "kernelspec": {
   "display_name": "Python 3",
   "language": "python",
   "name": "python3"
  },
  "language_info": {
   "codemirror_mode": {
    "name": "ipython",
    "version": 3
   },
   "file_extension": ".py",
   "mimetype": "text/x-python",
   "name": "python",
   "nbconvert_exporter": "python",
   "pygments_lexer": "ipython3",
   "version": "3.11.2"
  },
  "orig_nbformat": 4
 },
 "nbformat": 4,
 "nbformat_minor": 2
}
