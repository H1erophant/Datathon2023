{
 "cells": [
  {
   "cell_type": "code",
   "execution_count": 42,
   "metadata": {},
   "outputs": [],
   "source": [
    "import pandas as pd\n",
    "from sklearn.preprocessing import OneHotEncoder"
   ]
  },
  {
   "cell_type": "code",
   "execution_count": 54,
   "metadata": {},
   "outputs": [],
   "source": [
    "train_data = pd.read_csv(\"train.csv\")\n",
    "test_data = pd.read_csv(\"test_x.csv\")"
   ]
  },
  {
   "cell_type": "code",
   "execution_count": 44,
   "metadata": {},
   "outputs": [],
   "source": [
    "data = pd.concat([train_data,test_data])\n",
    "data.reset_index(drop=True,inplace=True)"
   ]
  },
  {
   "cell_type": "code",
   "execution_count": 45,
   "metadata": {},
   "outputs": [
    {
     "data": {
      "text/plain": [
       "index                                           int64\n",
       "Cinsiyet                                       object\n",
       "Yaş Grubu                                      object\n",
       "Medeni Durum                                   object\n",
       "Eğitim Düzeyi                                  object\n",
       "İstihdam Durumu                                object\n",
       "Yıllık Ortalama Gelir                         float64\n",
       "Yaşadığı Şehir                                 object\n",
       "En Çok İlgilendiği Ürün Grubu                  object\n",
       "Yıllık Ortalama Satın Alım Miktarı            float64\n",
       "Yıllık Ortalama Sipariş Verilen Ürün Adedi    float64\n",
       "Eğitime Devam Etme Durumu                      object\n",
       "Öbek İsmi                                      object\n",
       "Yıllık Ortalama Sepete Atılan Ürün Adedi      float64\n",
       "dtype: object"
      ]
     },
     "execution_count": 45,
     "metadata": {},
     "output_type": "execute_result"
    }
   ],
   "source": [
    "data.dtypes"
   ]
  },
  {
   "cell_type": "code",
   "execution_count": 46,
   "metadata": {},
   "outputs": [],
   "source": [
    "for column in data.columns:\n",
    "    if data[column].dtype == \"object\":\n",
    "        data[column] = pd.Categorical(data[column])\n",
    "        "
   ]
  },
  {
   "cell_type": "code",
   "execution_count": 47,
   "metadata": {},
   "outputs": [
    {
     "data": {
      "text/plain": [
       "index                                            int64\n",
       "Cinsiyet                                      category\n",
       "Yaş Grubu                                     category\n",
       "Medeni Durum                                  category\n",
       "Eğitim Düzeyi                                 category\n",
       "İstihdam Durumu                               category\n",
       "Yıllık Ortalama Gelir                          float64\n",
       "Yaşadığı Şehir                                category\n",
       "En Çok İlgilendiği Ürün Grubu                 category\n",
       "Yıllık Ortalama Satın Alım Miktarı             float64\n",
       "Yıllık Ortalama Sipariş Verilen Ürün Adedi     float64\n",
       "Eğitime Devam Etme Durumu                     category\n",
       "Öbek İsmi                                     category\n",
       "Yıllık Ortalama Sepete Atılan Ürün Adedi       float64\n",
       "dtype: object"
      ]
     },
     "execution_count": 47,
     "metadata": {},
     "output_type": "execute_result"
    }
   ],
   "source": [
    "data.dtypes"
   ]
  },
  {
   "cell_type": "code",
   "execution_count": 48,
   "metadata": {},
   "outputs": [],
   "source": [
    "categoricals = []\n",
    "\n",
    "for column in data.columns:\n",
    "    if data[column].dtype == \"category\":\n",
    "        categoricals.append(column)\n",
    "categoricals.pop()\n",
    "obek_ismi = data[\"Öbek İsmi\"]"
   ]
  },
  {
   "cell_type": "code",
   "execution_count": 49,
   "metadata": {},
   "outputs": [],
   "source": [
    "ohe = OneHotEncoder()"
   ]
  },
  {
   "cell_type": "code",
   "execution_count": 50,
   "metadata": {},
   "outputs": [],
   "source": [
    "encoded_data_df = pd.DataFrame()\n",
    "for column in categoricals:\n",
    "    encoded_data = ohe.fit_transform(data[[column]]).toarray()\n",
    "    column_names = [f\"{column}_{category}\" for category in ohe.categories_[0]]\n",
    "    encoded_column_df = pd.DataFrame(encoded_data, columns=column_names)\n",
    "    encoded_data_df = pd.concat([encoded_data_df, encoded_column_df], axis=1)"
   ]
  },
  {
   "cell_type": "code",
   "execution_count": 55,
   "metadata": {},
   "outputs": [],
   "source": [
    "numeric_columns = data.select_dtypes(include=['float64', 'int64']).columns\n",
    "numeric_data_df = data[numeric_columns].copy()"
   ]
  }
 ],
 "metadata": {
  "kernelspec": {
   "display_name": "base",
   "language": "python",
   "name": "python3"
  },
  "language_info": {
   "codemirror_mode": {
    "name": "ipython",
    "version": 3
   },
   "file_extension": ".py",
   "mimetype": "text/x-python",
   "name": "python",
   "nbconvert_exporter": "python",
   "pygments_lexer": "ipython3",
   "version": "3.10.9"
  },
  "orig_nbformat": 4
 },
 "nbformat": 4,
 "nbformat_minor": 2
}
